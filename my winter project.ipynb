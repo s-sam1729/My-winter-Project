{
 "cells": [
  {
   "cell_type": "code",
   "execution_count": 13,
   "metadata": {
    "vscode": {
     "languageId": "sage"
    }
   },
   "outputs": [],
   "source": [
    "#Basic Algebraic operations\n",
    "a=5"
   ]
  },
  {
   "cell_type": "code",
   "execution_count": 2,
   "metadata": {
    "vscode": {
     "languageId": "sage"
    }
   },
   "outputs": [
    {
     "data": {
      "text/plain": [
       "5"
      ]
     },
     "execution_count": 2,
     "metadata": {},
     "output_type": "execute_result"
    }
   ],
   "source": [
    "a"
   ]
  },
  {
   "cell_type": "code",
   "execution_count": 3,
   "metadata": {
    "vscode": {
     "languageId": "sage"
    }
   },
   "outputs": [
    {
     "data": {
      "text/plain": [
       "38"
      ]
     },
     "execution_count": 3,
     "metadata": {},
     "output_type": "execute_result"
    }
   ],
   "source": [
    "3^2*4 + 2%5"
   ]
  },
  {
   "cell_type": "code",
   "execution_count": 4,
   "metadata": {
    "vscode": {
     "languageId": "sage"
    }
   },
   "outputs": [
    {
     "data": {
      "text/plain": [
       "(54, 64, 58)"
      ]
     },
     "execution_count": 4,
     "metadata": {},
     "output_type": "execute_result"
    }
   ],
   "source": [
    "A = Matrix([[1,2,9],[7,2,1],[1,6,1]])\n",
    "w = vector([5,6,7])\n",
    "w*A"
   ]
  },
  {
   "cell_type": "code",
   "execution_count": 5,
   "metadata": {
    "vscode": {
     "languageId": "sage"
    }
   },
   "outputs": [],
   "source": [
    "#Same things in different fields\n",
    "#polynomial x^3-5 has different no.of roots in rational field;real field; complex field.\n",
    "ratpoly.<t> = PolynomialRing(QQ)\n",
    "realpoly.<z> = PolynomialRing(RR)\n",
    "complexpoly.<u> = PolynomialRing(CC)"
   ]
  },
  {
   "cell_type": "code",
   "execution_count": 6,
   "metadata": {
    "vscode": {
     "languageId": "sage"
    }
   },
   "outputs": [
    {
     "data": {
      "text/plain": [
       "t^3 - 3"
      ]
     },
     "execution_count": 6,
     "metadata": {},
     "output_type": "execute_result"
    }
   ],
   "source": [
    "factor(t^3-3)"
   ]
  },
  {
   "cell_type": "code",
   "execution_count": 7,
   "metadata": {
    "vscode": {
     "languageId": "sage"
    }
   },
   "outputs": [
    {
     "data": {
      "text/plain": [
       "(z - 1.44224957030741) * (z^2 + 1.44224957030741*z + 2.08008382305190)"
      ]
     },
     "execution_count": 7,
     "metadata": {},
     "output_type": "execute_result"
    }
   ],
   "source": [
    "factor(z^3-3)"
   ]
  },
  {
   "cell_type": "code",
   "execution_count": 8,
   "metadata": {
    "vscode": {
     "languageId": "sage"
    }
   },
   "outputs": [
    {
     "data": {
      "text/plain": [
       "(u - 1.44224957030741) * (u + 0.721124785153704 - 1.24902476648341*I) * (u + 0.721124785153704 + 1.24902476648341*I)"
      ]
     },
     "execution_count": 8,
     "metadata": {},
     "output_type": "execute_result"
    }
   ],
   "source": [
    "factor(u^3-3)"
   ]
  },
  {
   "cell_type": "code",
   "execution_count": 9,
   "metadata": {
    "vscode": {
     "languageId": "sage"
    }
   },
   "outputs": [
    {
     "data": {
      "text/plain": [
       "[4, 6, 5, 2, 3, 1]"
      ]
     },
     "execution_count": 9,
     "metadata": {},
     "output_type": "execute_result"
    }
   ],
   "source": [
    "#symmetric groups and simplifications\n",
    "G=SymmetricGroup(6)\n",
    "u=G([5,2,4,3,1,6])\n",
    "o=G([3,4,1,5,6,2])\n",
    "(o^3*u^5).domain()"
   ]
  },
  {
   "cell_type": "code",
   "execution_count": 10,
   "metadata": {
    "vscode": {
     "languageId": "sage"
    }
   },
   "outputs": [
    {
     "data": {
      "text/plain": [
       "(1, x, x^-1, x^2, x^-2, x^3, x^-3)"
      ]
     },
     "execution_count": 10,
     "metadata": {},
     "output_type": "execute_result"
    }
   ],
   "source": [
    "# Cyclic Group of order 7\n",
    "F = FreeGroup(1)\n",
    "g = F.gens()[0]\n",
    "C7 = F.quotient([g^7])\n",
    "C7.list()"
   ]
  },
  {
   "cell_type": "code",
   "execution_count": 14,
   "metadata": {
    "vscode": {
     "languageId": "sage"
    }
   },
   "outputs": [
    {
     "name": "stdout",
     "output_type": "stream",
     "text": [
      "Free Group F2: Free Group on generators {a, b}\n"
     ]
    }
   ],
   "source": [
    "# Free Group F2\n",
    "F.<a, b> = FreeGroup() \n",
    "print(\"Free Group F2:\", F)"
   ]
  },
  {
   "cell_type": "code",
   "execution_count": null,
   "metadata": {
    "vscode": {
     "languageId": "sage"
    }
   },
   "outputs": [
    {
     "data": {
      "text/plain": [
       "969634724041592291988292062"
      ]
     },
     "execution_count": 19,
     "metadata": {},
     "output_type": "execute_result"
    }
   ],
   "source": [
    "#Implementing RSA\n",
    "\n",
    "\n",
    "#Public Key(4951760154835678088235319297,1850567623300615966303954877)=(n,e)\n",
    "#Private Key(2147483647,2305843009213693951,4460824882019967172592779313)=(p,q,d)\n",
    "n=4951760154835678088235319297\n",
    "e=1850567623300615966303954877\n",
    "p=2147483647\n",
    "q=2305843009213693951\n",
    "d=4460824882019967172592779313\n",
    "#Now encrypting my messgae using ASCII (m=\"BGT\")\n",
    "m=667184\n",
    "#Encrypting the messsage(c)\n",
    "c=power_mod(m, e, n);c"
   ]
  },
  {
   "cell_type": "code",
   "execution_count": 20,
   "metadata": {
    "vscode": {
     "languageId": "sage"
    }
   },
   "outputs": [
    {
     "data": {
      "text/plain": [
       "667184"
      ]
     },
     "execution_count": 20,
     "metadata": {},
     "output_type": "execute_result"
    }
   ],
   "source": [
    "#Now Decrypting the message\n",
    "power_mod(c, d, n)"
   ]
  },
  {
   "cell_type": "code",
   "execution_count": 36,
   "metadata": {
    "vscode": {
     "languageId": "sage"
    }
   },
   "outputs": [
    {
     "name": "stdout",
     "output_type": "stream",
     "text": [
      "H = Subgroup generated by [(1,2,3)] of (Symmetric group of order 3! as a permutation group), K = Subgroup generated by [(1,2,3)] of (Symmetric group of order 3! as a permutation group), Intersection = Permutation Group with generators [(1,2,3)]\n",
      "H = Subgroup generated by [(1,2,3)] of (Symmetric group of order 3! as a permutation group), K = Subgroup generated by [(1,2,3), (2,3)] of (Symmetric group of order 3! as a permutation group), Intersection = Permutation Group with generators [(1,2,3)]\n",
      "H = Subgroup generated by [(1,2,3), (2,3)] of (Symmetric group of order 3! as a permutation group), K = Subgroup generated by [(1,2,3)] of (Symmetric group of order 3! as a permutation group), Intersection = Permutation Group with generators [(1,2,3)]\n",
      "H = Subgroup generated by [(1,2,3), (2,3)] of (Symmetric group of order 3! as a permutation group), K = Subgroup generated by [(1,2,3), (2,3)] of (Symmetric group of order 3! as a permutation group), Intersection = Permutation Group with generators [(1,2,3), (2,3)]\n"
     ]
    }
   ],
   "source": [
    "G = SymmetricGroup(3)\n",
    "subgroups = G.subgroups()\n",
    "for H in subgroups:\n",
    "    for K in subgroups:\n",
    "        if H.order() > sqrt(G.order()) and K.order() > sqrt(G.order()):\n",
    "            print(f\"H = {H}, K = {K}, Intersection = {H.intersection(K)}\")\n"
   ]
  },
  {
   "cell_type": "code",
   "execution_count": 21,
   "metadata": {
    "vscode": {
     "languageId": "sage"
    }
   },
   "outputs": [
    {
     "data": {
      "text/plain": [
       "[1,\n",
       " 2,\n",
       " 2,\n",
       " 2,\n",
       " 3,\n",
       " 3,\n",
       " 4,\n",
       " 4,\n",
       " 4,\n",
       " 4,\n",
       " 4,\n",
       " 4,\n",
       " 4,\n",
       " 5,\n",
       " 6,\n",
       " 6,\n",
       " 6,\n",
       " 6,\n",
       " 6,\n",
       " 6,\n",
       " 8,\n",
       " 8,\n",
       " 8,\n",
       " 8,\n",
       " 8,\n",
       " 8,\n",
       " 8,\n",
       " 9,\n",
       " 10,\n",
       " 12,\n",
       " 12,\n",
       " 12,\n",
       " 12,\n",
       " 16,\n",
       " 18,\n",
       " 18,\n",
       " 18,\n",
       " 20,\n",
       " 24,\n",
       " 24,\n",
       " 24,\n",
       " 24,\n",
       " 24,\n",
       " 24,\n",
       " 36,\n",
       " 36,\n",
       " 36,\n",
       " 48,\n",
       " 48,\n",
       " 60,\n",
       " 60,\n",
       " 72,\n",
       " 120,\n",
       " 120,\n",
       " 360,\n",
       " 720]"
      ]
     },
     "execution_count": 21,
     "metadata": {},
     "output_type": "execute_result"
    }
   ],
   "source": [
    "#Listing all the orders of the subgroups to check for Sylow p-subgroups\n",
    "G=SymmetricGroup(6)\n",
    "subgroups = G.conjugacy_classes_subgroups()\n",
    "X=G.order()\n",
    "list(map(order, subgroups))"
   ]
  },
  {
   "cell_type": "code",
   "execution_count": 10,
   "metadata": {
    "vscode": {
     "languageId": "sage"
    }
   },
   "outputs": [
    {
     "data": {
      "text/plain": [
       "Subgroup generated by [(4,6), (1,2)(3,5), (1,3)(2,5)] of (Symmetric group of order 6! as a permutation group)"
      ]
     },
     "execution_count": 10,
     "metadata": {},
     "output_type": "execute_result"
    }
   ],
   "source": [
    "# As order of S6 is 6!=720=2^4x3^2x5\n",
    "# Hence Sylow -2-subgroups have order 8\n",
    "# The required Sylow-2-subgroups are [21,22,23,24,25,26,27]\n",
    "n2=7\n",
    "subgroups[20]"
   ]
  },
  {
   "cell_type": "code",
   "execution_count": 11,
   "metadata": {
    "vscode": {
     "languageId": "sage"
    }
   },
   "outputs": [
    {
     "data": {
      "text/plain": [
       "Subgroup generated by [(4,6), (1,2)(4,6), (1,2)(3,5)] of (Symmetric group of order 6! as a permutation group)"
      ]
     },
     "execution_count": 11,
     "metadata": {},
     "output_type": "execute_result"
    }
   ],
   "source": [
    "subgroups[21]"
   ]
  },
  {
   "cell_type": "code",
   "execution_count": 12,
   "metadata": {
    "vscode": {
     "languageId": "sage"
    }
   },
   "outputs": [
    {
     "data": {
      "text/plain": [
       "Subgroup generated by [(1,5,2,3)(4,6), (3,5)] of (Symmetric group of order 6! as a permutation group)"
      ]
     },
     "execution_count": 12,
     "metadata": {},
     "output_type": "execute_result"
    }
   ],
   "source": [
    "subgroups[22]"
   ]
  },
  {
   "cell_type": "code",
   "execution_count": 13,
   "metadata": {
    "vscode": {
     "languageId": "sage"
    }
   },
   "outputs": [
    {
     "data": {
      "text/plain": [
       "Subgroup generated by [(1,5,2,3)(4,6), (4,6)] of (Symmetric group of order 6! as a permutation group)"
      ]
     },
     "execution_count": 13,
     "metadata": {},
     "output_type": "execute_result"
    }
   ],
   "source": [
    "subgroups[23]"
   ]
  },
  {
   "cell_type": "code",
   "execution_count": 14,
   "metadata": {
    "vscode": {
     "languageId": "sage"
    }
   },
   "outputs": [
    {
     "data": {
      "text/plain": [
       "Subgroup generated by [(3,6,5,4), (1,2)(4,6), (1,2)(3,5)] of (Symmetric group of order 6! as a permutation group)"
      ]
     },
     "execution_count": 14,
     "metadata": {},
     "output_type": "execute_result"
    }
   ],
   "source": [
    "subgroups[24]"
   ]
  },
  {
   "cell_type": "code",
   "execution_count": 15,
   "metadata": {
    "vscode": {
     "languageId": "sage"
    }
   },
   "outputs": [
    {
     "data": {
      "text/plain": [
       "Subgroup generated by [(3,5), (1,2)(3,5), (1,3)(2,5)] of (Symmetric group of order 6! as a permutation group)"
      ]
     },
     "execution_count": 15,
     "metadata": {},
     "output_type": "execute_result"
    }
   ],
   "source": [
    "subgroups[25]"
   ]
  },
  {
   "cell_type": "code",
   "execution_count": 16,
   "metadata": {
    "vscode": {
     "languageId": "sage"
    }
   },
   "outputs": [
    {
     "data": {
      "text/plain": [
       "Subgroup generated by [(1,2)(3,5), (1,3)(2,5), (1,2)(4,6)] of (Symmetric group of order 6! as a permutation group)"
      ]
     },
     "execution_count": 16,
     "metadata": {},
     "output_type": "execute_result"
    }
   ],
   "source": [
    "subgroups[26]"
   ]
  },
  {
   "cell_type": "code",
   "execution_count": 19,
   "metadata": {
    "vscode": {
     "languageId": "sage"
    }
   },
   "outputs": [
    {
     "data": {
      "text/plain": [
       "Subgroup generated by [(1,3,2), (4,5,6)] of (Symmetric group of order 6! as a permutation group)"
      ]
     },
     "execution_count": 19,
     "metadata": {},
     "output_type": "execute_result"
    }
   ],
   "source": [
    "# Hence Sylow -3-subgroups have order 9\n",
    "# The required Sylow-3-subgroups are [28]\n",
    "n3=1\n",
    "subgroups[27]"
   ]
  },
  {
   "cell_type": "code",
   "execution_count": 20,
   "metadata": {
    "vscode": {
     "languageId": "sage"
    }
   },
   "outputs": [
    {
     "data": {
      "text/plain": [
       "Subgroup generated by [(1,4,5,3,2)] of (Symmetric group of order 6! as a permutation group)"
      ]
     },
     "execution_count": 20,
     "metadata": {},
     "output_type": "execute_result"
    }
   ],
   "source": [
    "# Hence Sylow -5-subgroups have order 5\n",
    "# The required Sylow-5-subgroups are [14]\n",
    "n5=1\n",
    "subgroups[13]"
   ]
  },
  {
   "cell_type": "code",
   "execution_count": null,
   "metadata": {
    "vscode": {
     "languageId": "sage"
    }
   },
   "outputs": [],
   "source": [
    "# All the modulus Relations are also true"
   ]
  }
 ],
 "metadata": {
  "kernelspec": {
   "display_name": "SageMath 10.4",
   "language": "sage",
   "name": "sagemath"
  },
  "language_info": {
   "codemirror_mode": {
    "name": "ipython",
    "version": 3
   },
   "file_extension": ".py",
   "mimetype": "text/x-python",
   "name": "python",
   "nbconvert_exporter": "python",
   "pygments_lexer": "ipython3",
   "version": "3.11.11"
  }
 },
 "nbformat": 4,
 "nbformat_minor": 2
}
